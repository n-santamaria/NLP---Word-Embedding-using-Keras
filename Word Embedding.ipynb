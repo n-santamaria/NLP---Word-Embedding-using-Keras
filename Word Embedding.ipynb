{
 "cells": [
  {
   "cell_type": "code",
   "execution_count": 71,
   "id": "46de2f8c",
   "metadata": {},
   "outputs": [],
   "source": [
    "from tensorflow.keras.preprocessing.text import one_hot\n",
    "from tensorflow.keras.layers import Embedding\n",
    "from tensorflow.keras.models import Sequential\n",
    "# For creating padding (all the sentences should be same no. of words)\n",
    "from tensorflow.keras.preprocessing.sequence import pad_sequences\n",
    "import numpy as np"
   ]
  },
  {
   "cell_type": "code",
   "execution_count": 72,
   "id": "f08aad10",
   "metadata": {},
   "outputs": [
    {
     "data": {
      "text/plain": [
       "['He is a good boy',\n",
       " 'Something good is cooking',\n",
       " 'I am very hungry',\n",
       " 'You need to understand how Tensorflow works',\n",
       " 'Let study tensorflow',\n",
       " 'Machine Learning is the future',\n",
       " 'Get me some biscuits',\n",
       " 'Cryptocurrency is the future of finance']"
      ]
     },
     "metadata": {},
     "output_type": "display_data"
    }
   ],
   "source": [
    "sentence = ['He is a good boy', \n",
    "            'Something good is cooking', \n",
    "            'I am very hungry', \n",
    "            'You need to understand how Tensorflow works',\n",
    "            'Let study tensorflow', \n",
    "            'Machine Learning is the future',\n",
    "            'Get me some biscuits', \n",
    "            'Cryptocurrency is the future of finance']\n",
    "\n",
    "display(sentence)"
   ]
  },
  {
   "cell_type": "code",
   "execution_count": 73,
   "id": "0752fbfb",
   "metadata": {},
   "outputs": [
    {
     "data": {
      "text/plain": [
       "[[7543, 199, 7464, 619, 2047],\n",
       " [6264, 619, 199, 4276],\n",
       " [3466, 1391, 9819, 6490],\n",
       " [7871, 8721, 781, 2740, 972, 4576, 341],\n",
       " [1136, 4606, 4576],\n",
       " [7019, 1074, 199, 6766, 8892],\n",
       " [1131, 4325, 9387, 1072],\n",
       " [4545, 199, 6766, 8892, 8041, 2866]]"
      ]
     },
     "metadata": {},
     "output_type": "display_data"
    }
   ],
   "source": [
    "# where 10000 is the vocabulary size i.e. dictionary\n",
    "oneHot = [one_hot(word, 10000) for word in sentence]\n",
    "display(oneHot)"
   ]
  },
  {
   "cell_type": "code",
   "execution_count": 74,
   "id": "3393eed3",
   "metadata": {},
   "outputs": [
    {
     "name": "stdout",
     "output_type": "stream",
     "text": [
      "[[   0    0    0    0    0 7543  199 7464  619 2047]\n",
      " [   0    0    0    0    0    0 6264  619  199 4276]\n",
      " [   0    0    0    0    0    0 3466 1391 9819 6490]\n",
      " [   0    0    0 7871 8721  781 2740  972 4576  341]\n",
      " [   0    0    0    0    0    0    0 1136 4606 4576]\n",
      " [   0    0    0    0    0 7019 1074  199 6766 8892]\n",
      " [   0    0    0    0    0    0 1131 4325 9387 1072]\n",
      " [   0    0    0    0 4545  199 6766 8892 8041 2866]]\n"
     ]
    }
   ],
   "source": [
    "# Padding all the sentences with length of 10. \n",
    "# Padding will be done at the start of every sentence.\n",
    "oneHotPadded = pad_sequences(oneHot, padding='pre', maxlen=10)\n",
    "oneHotPadded = np.array(oneHotPadded)\n",
    "print(oneHotPadded)"
   ]
  },
  {
   "cell_type": "code",
   "execution_count": 77,
   "id": "e16d11cc",
   "metadata": {},
   "outputs": [
    {
     "name": "stdout",
     "output_type": "stream",
     "text": [
      "Model: \"sequential_22\"\n",
      "_________________________________________________________________\n",
      " Layer (type)                Output Shape              Param #   \n",
      "=================================================================\n",
      " embedding_20 (Embedding)    (None, 10, 10)            100000    \n",
      "                                                                 \n",
      "=================================================================\n",
      "Total params: 100,000\n",
      "Trainable params: 100,000\n",
      "Non-trainable params: 0\n",
      "_________________________________________________________________\n"
     ]
    },
    {
     "data": {
      "text/plain": [
       "None"
      ]
     },
     "metadata": {},
     "output_type": "display_data"
    }
   ],
   "source": [
    "# voc_size --> no. of dimension for every word in the sentence.\n",
    "# input_length --> length of every sentence.\n",
    "model = Sequential()\n",
    "model.add(Embedding(input_dim=10000, output_dim = 10, input_length=10))\n",
    "model.compile('adam', 'mse')\n",
    "display(model.summary())"
   ]
  },
  {
   "cell_type": "code",
   "execution_count": 81,
   "id": "afab532a",
   "metadata": {},
   "outputs": [
    {
     "data": {
      "text/plain": [
       "array([[-0.04359294,  0.01269324, -0.02753763,  0.03517114,  0.01663211,\n",
       "         0.00979983,  0.03896698, -0.04224716,  0.03092004, -0.02965454],\n",
       "       [-0.04359294,  0.01269324, -0.02753763,  0.03517114,  0.01663211,\n",
       "         0.00979983,  0.03896698, -0.04224716,  0.03092004, -0.02965454],\n",
       "       [-0.04359294,  0.01269324, -0.02753763,  0.03517114,  0.01663211,\n",
       "         0.00979983,  0.03896698, -0.04224716,  0.03092004, -0.02965454],\n",
       "       [-0.04359294,  0.01269324, -0.02753763,  0.03517114,  0.01663211,\n",
       "         0.00979983,  0.03896698, -0.04224716,  0.03092004, -0.02965454],\n",
       "       [-0.04359294,  0.01269324, -0.02753763,  0.03517114,  0.01663211,\n",
       "         0.00979983,  0.03896698, -0.04224716,  0.03092004, -0.02965454],\n",
       "       [-0.02091444, -0.00288856,  0.03895693, -0.04648236,  0.04838778,\n",
       "         0.01946336,  0.01361184,  0.00930878, -0.02307057, -0.04326379],\n",
       "       [-0.02111969, -0.00157107,  0.0294031 , -0.03559632,  0.00358398,\n",
       "         0.01082584, -0.00157455, -0.04401217, -0.03573712, -0.04770268],\n",
       "       [-0.00530398,  0.04697415,  0.03476811,  0.01191623,  0.04626877,\n",
       "         0.04535783,  0.00759254,  0.03069035, -0.01447529, -0.0126927 ],\n",
       "       [-0.02509427,  0.01878545,  0.01360184, -0.03409208,  0.01271441,\n",
       "         0.00674563, -0.00368371,  0.01872784,  0.01558151,  0.03074826],\n",
       "       [-0.03596161,  0.00998521, -0.00114125, -0.04653284,  0.02221962,\n",
       "        -0.00388987,  0.04931035,  0.03611434,  0.03440752, -0.01157437]],\n",
       "      dtype=float32)"
      ]
     },
     "execution_count": 81,
     "metadata": {},
     "output_type": "execute_result"
    }
   ],
   "source": [
    "model.predict(oneHotPadded[0])"
   ]
  },
  {
   "cell_type": "code",
   "execution_count": 82,
   "id": "0f822bc1",
   "metadata": {},
   "outputs": [
    {
     "data": {
      "text/plain": [
       "array([   0,    0,    0,    0,    0, 7543,  199, 7464,  619, 2047],\n",
       "      dtype=int32)"
      ]
     },
     "execution_count": 82,
     "metadata": {},
     "output_type": "execute_result"
    }
   ],
   "source": [
    "oneHotPadded[0]"
   ]
  },
  {
   "cell_type": "code",
   "execution_count": null,
   "id": "9b9254c3",
   "metadata": {},
   "outputs": [],
   "source": []
  }
 ],
 "metadata": {
  "kernelspec": {
   "display_name": "Python 3 (ipykernel)",
   "language": "python",
   "name": "python3"
  },
  "language_info": {
   "codemirror_mode": {
    "name": "ipython",
    "version": 3
   },
   "file_extension": ".py",
   "mimetype": "text/x-python",
   "name": "python",
   "nbconvert_exporter": "python",
   "pygments_lexer": "ipython3",
   "version": "3.9.7"
  }
 },
 "nbformat": 4,
 "nbformat_minor": 5
}
