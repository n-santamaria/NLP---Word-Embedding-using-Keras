{
 "cells": [
  {
   "cell_type": "code",
   "execution_count": 36,
   "id": "dec105d7",
   "metadata": {},
   "outputs": [],
   "source": [
    "import numpy as np\n",
    "from tensorflow.keras.preprocessing.text import one_hot, Tokenizer\n",
    "from tensorflow.keras.preprocessing.sequence import pad_sequences\n",
    "from tensorflow.keras.models import Sequential\n",
    "from tensorflow.keras.layers import Dense, Flatten, Embedding"
   ]
  },
  {
   "cell_type": "code",
   "execution_count": 30,
   "id": "52fc214a",
   "metadata": {},
   "outputs": [
    {
     "data": {
      "text/plain": [
       "[[317, 615, 770],\n",
       " [564, 228, 317],\n",
       " [15, 886, 641, 79, 999, 265, 317],\n",
       " [694, 615, 329, 228],\n",
       " [641, 486, 564, 45],\n",
       " [612, 266, 610, 302],\n",
       " [405, 615, 329, 228],\n",
       " [830, 610, 615, 821, 192],\n",
       " [915, 785, 209, 986, 520],\n",
       " [102, 434, 786, 797, 600, 209, 265, 770, 317],\n",
       " [587, 317],\n",
       " [228, 312],\n",
       " [304, 629, 317],\n",
       " [564, 209, 694]]"
      ]
     },
     "metadata": {},
     "output_type": "display_data"
    }
   ],
   "source": [
    "sentences = ['Movie was awesome', 'Very bad movie', \n",
    "            'Wasted my 2 hours on this movie', \n",
    "            'Ending was really bad', 'VFX wer very good', 'I need a refund', \n",
    "            'Acting was really bad', 'Script play was done well', \n",
    "            'Waiting for the next part', 'You don not want to miss this. Awesome movie!', \n",
    "            'Great movie', 'Bad direction', '3rd grade movie', 'Love the ending']\n",
    "y = np.array([1,0,0,0,1,0,0,1,1,1,1,0,0,1])\n",
    "vocab_size = 1000\n",
    "encode = [one_hot(word, vocab_size) for word in sentences]\n",
    "display(encode)"
   ]
  },
  {
   "cell_type": "code",
   "execution_count": 31,
   "id": "fbc960cb",
   "metadata": {},
   "outputs": [
    {
     "name": "stdout",
     "output_type": "stream",
     "text": [
      "[[  0   0   0   0   0   0   0 317 615 770]\n",
      " [  0   0   0   0   0   0   0 564 228 317]\n",
      " [  0   0   0  15 886 641  79 999 265 317]\n",
      " [  0   0   0   0   0   0 694 615 329 228]\n",
      " [  0   0   0   0   0   0 641 486 564  45]\n",
      " [  0   0   0   0   0   0 612 266 610 302]\n",
      " [  0   0   0   0   0   0 405 615 329 228]\n",
      " [  0   0   0   0   0 830 610 615 821 192]\n",
      " [  0   0   0   0   0 915 785 209 986 520]\n",
      " [  0 102 434 786 797 600 209 265 770 317]\n",
      " [  0   0   0   0   0   0   0   0 587 317]\n",
      " [  0   0   0   0   0   0   0   0 228 312]\n",
      " [  0   0   0   0   0   0   0 304 629 317]\n",
      " [  0   0   0   0   0   0   0 564 209 694]]\n"
     ]
    }
   ],
   "source": [
    "encode_pad = pad_sequences(encode, maxlen=10, padding='pre')\n",
    "print(encode_pad)"
   ]
  },
  {
   "cell_type": "code",
   "execution_count": 32,
   "id": "b204665c",
   "metadata": {},
   "outputs": [
    {
     "name": "stdout",
     "output_type": "stream",
     "text": [
      "Model: \"sequential_8\"\n",
      "_________________________________________________________________\n",
      " Layer (type)                Output Shape              Param #   \n",
      "=================================================================\n",
      " embedding_7 (Embedding)     (None, 10, 10)            10000     \n",
      "                                                                 \n",
      " flatten_7 (Flatten)         (None, 100)               0         \n",
      "                                                                 \n",
      " dense_7 (Dense)             (None, 1)                 101       \n",
      "                                                                 \n",
      "=================================================================\n",
      "Total params: 10,101\n",
      "Trainable params: 10,101\n",
      "Non-trainable params: 0\n",
      "_________________________________________________________________\n"
     ]
    },
    {
     "data": {
      "text/plain": [
       "None"
      ]
     },
     "metadata": {},
     "output_type": "display_data"
    }
   ],
   "source": [
    "model = Sequential()\n",
    "model.add(Embedding(input_dim=1000, output_dim=10, input_length=10))\n",
    "model.add(Flatten())\n",
    "model.add(Dense(1, activation='sigmoid'))\n",
    "model.compile(optimizer='adam', loss='binary_crossentropy', metrics=['accuracy'])\n",
    "display(model.summary())"
   ]
  },
  {
   "cell_type": "code",
   "execution_count": 34,
   "id": "88f23941",
   "metadata": {},
   "outputs": [
    {
     "name": "stdout",
     "output_type": "stream",
     "text": [
      "Loss|Accuracy:  100.0\n"
     ]
    }
   ],
   "source": [
    "model.fit(encode_pad, y, epochs=100, verbose=0)\n",
    "loss, accuracy = model.evaluate(encode_pad, y, verbose=0)\n",
    "print('Loss|Accuracy: ',(accuracy*100))"
   ]
  },
  {
   "cell_type": "code",
   "execution_count": null,
   "id": "54c174cb",
   "metadata": {},
   "outputs": [],
   "source": []
  }
 ],
 "metadata": {
  "kernelspec": {
   "display_name": "Python 3 (ipykernel)",
   "language": "python",
   "name": "python3"
  },
  "language_info": {
   "codemirror_mode": {
    "name": "ipython",
    "version": 3
   },
   "file_extension": ".py",
   "mimetype": "text/x-python",
   "name": "python",
   "nbconvert_exporter": "python",
   "pygments_lexer": "ipython3",
   "version": "3.9.7"
  }
 },
 "nbformat": 4,
 "nbformat_minor": 5
}
